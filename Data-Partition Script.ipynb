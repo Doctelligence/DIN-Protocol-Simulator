{
 "cells": [
  {
   "cell_type": "code",
   "execution_count": null,
   "id": "3da9b956",
   "metadata": {},
   "outputs": [],
   "source": [
    "import os\n",
    "import sys\n",
    "import glob"
   ]
  },
  {
   "cell_type": "code",
   "execution_count": null,
   "id": "ce49f8c0",
   "metadata": {},
   "outputs": [],
   "source": [
    "data_path = '/.../Covid19_detection/covid19_data/train/'#sys.argv[1]\n",
    "files = os.listdir(data_path) \n",
    "print(\"Files and directories:\") \n",
    "print(data_path)"
   ]
  },
  {
   "cell_type": "code",
   "execution_count": null,
   "id": "cac23226",
   "metadata": {},
   "outputs": [],
   "source": [
    "if not os.path.isdir(data_path):\n",
    "    print('Is not a directory ', data_path)"
   ]
  },
  {
   "cell_type": "code",
   "execution_count": null,
   "id": "ceb951d3",
   "metadata": {},
   "outputs": [],
   "source": [
    "files_list = []\n",
    "for root, directories, files in os.walk(data_path):\n",
    "   for name in files:\n",
    "      files_list.append(os.path.join(root, name))\n",
    "print(files_list)\n"
   ]
  },
  {
   "cell_type": "code",
   "execution_count": null,
   "id": "f075d8d0",
   "metadata": {},
   "outputs": [],
   "source": [
    "files_list_pos = glob.glob(\"/.../Covid19_detection/covid19_data/train/positive/*\")\n",
    "print(files_list_pos)\n",
    "len(files_list_pos)"
   ]
  },
  {
   "cell_type": "code",
   "execution_count": null,
   "id": "66b75df4",
   "metadata": {},
   "outputs": [],
   "source": [
    "files_list_neg = glob.glob(\"/.../Covid19_detection/covid19_data/train/negative/*\")\n",
    "print(files_list_neg)\n",
    "len(files_list_neg)"
   ]
  },
  {
   "cell_type": "code",
   "execution_count": null,
   "id": "7b63c7ba",
   "metadata": {},
   "outputs": [],
   "source": [
    "no_patients = 20 #int(sys.argv[2])\n",
    "no_rounds = 5 #int(sys.argv[3])"
   ]
  },
  {
   "cell_type": "code",
   "execution_count": null,
   "id": "552f5715",
   "metadata": {},
   "outputs": [],
   "source": [
    "Cov_Pos = int(len(files_list_pos)/(no_patients))\n",
    "Cov_Neg = int(len(files_list_neg)/(no_patients))"
   ]
  },
  {
   "cell_type": "code",
   "execution_count": null,
   "id": "8f0d1b01",
   "metadata": {},
   "outputs": [],
   "source": [
    "if Cov_Pos ==0:\n",
    "    print('Cov_Pos is < 1')\n",
    "    exit(0)\n",
    "if Cov_Neg ==0:\n",
    "    print('Cov_Neg is < 1')\n",
    "    exit(0)"
   ]
  },
  {
   "cell_type": "code",
   "execution_count": null,
   "id": "8cefa588",
   "metadata": {},
   "outputs": [],
   "source": [
    "#os.mkdir('/.../Covid19_detection/Patients/')\n",
    "Patient_list = '/.../Covid19_detection/Patients/'\n",
    "print(Patient_list)\n",
    "for i in range(no_patients):\n",
    "    os.mkdir(Patient_list + 'Patient_' + str(i))\n",
    "    os.mkdir(Patient_list + 'Patient_' + str(i) + '/Positive')\n",
    "    os.mkdir(Patient_list + 'Patient_' + str(i) + '/Negative')"
   ]
  },
  {
   "cell_type": "code",
   "execution_count": null,
   "id": "51d3c9f9",
   "metadata": {},
   "outputs": [],
   "source": [
    "import shutil"
   ]
  },
  {
   "cell_type": "code",
   "execution_count": null,
   "id": "b9a7282a",
   "metadata": {},
   "outputs": [],
   "source": [
    "i = 0\n",
    "num_file = 0\n",
    "\n",
    "for file in files_list_neg:\n",
    "    shutil.copy(file, Patient_list + 'Patient_' + str(i) + '/Negative/')\n",
    "    num_file = num_file + 1\n",
    "    if num_file == Cov_Neg:\n",
    "        num_file = 0\n",
    "        i = i+1    \n",
    "i = 0\n",
    "num_file = 0\n",
    "\n",
    "for file in files_list_pos:\n",
    "    shutil.copy(file, Patient_list + 'Patient_' + str(i) + '/Positive/')\n",
    "    num_file = num_file + 1\n",
    "    if num_file == Cov_Pos:\n",
    "        num_file = 0\n",
    "        i = i+1\n"
   ]
  }
 ],
 "metadata": {
  "kernelspec": {
   "display_name": "Python 3",
   "language": "python",
   "name": "python3"
  },
  "language_info": {
   "codemirror_mode": {
    "name": "ipython",
    "version": 3
   },
   "file_extension": ".py",
   "mimetype": "text/x-python",
   "name": "python",
   "nbconvert_exporter": "python",
   "pygments_lexer": "ipython3",
   "version": "3.9.5"
  }
 },
 "nbformat": 4,
 "nbformat_minor": 5
}
