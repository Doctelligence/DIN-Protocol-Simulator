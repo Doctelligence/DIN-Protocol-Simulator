{
 "cells": [
  {
   "cell_type": "code",
   "execution_count": null,
   "metadata": {
    "colab": {
     "base_uri": "https://localhost:8080/",
     "height": 36
    },
    "id": "25X-NU-3o7lL",
    "outputId": "44437642-47a6-4ab4-9f3b-ad358939e99d"
   },
   "outputs": [],
   "source": [
    "# Importing required packages\n",
    "import tensorflow as tf\n",
    "from tensorflow import keras\n",
    "from tensorflow.keras.models import Sequential\n",
    "from tensorflow.keras.layers import Activation, Dense, Flatten, BatchNormalization, Conv2D, MaxPool2D\n",
    "from tensorflow.keras.optimizers import Adam, SGD\n",
    "from tensorflow.keras.metrics import categorical_crossentropy\n",
    "from tensorflow.keras.preprocessing.image import ImageDataGenerator\n",
    "from tensorflow.keras import layers\n",
    "\n",
    "\n",
    "import numpy as np\n",
    "import pandas as pd\n",
    "import os\n",
    "import shutil\n",
    "import random\n",
    "tf.__version__"
   ]
  },
  {
   "cell_type": "code",
   "execution_count": null,
   "metadata": {
    "id": "fp9bvQagsUvG"
   },
   "outputs": [],
   "source": [
    "import glob\n",
    "# Path of the data\n",
    "#train_path = 'covid19_data/train'\n",
    "Patient_list = '/.../Covid19_detection/Patients/'\n",
    "no_patients = 20\n",
    "\n",
    "train_path_list = []\n",
    "for i in range(no_patients):\n",
    "    train_patients = glob.glob(Patient_list + 'Patient_' + str(i))\n",
    "    train_path_list.append(train_patients[0])\n",
    "print(train_path_list)\n",
    "valid_path = 'covid19_data/val'\n",
    "test_path = 'covid19_data/test'\n",
    "#Randomly select Patients for Training and Validation 80/20 Split"
   ]
  },
  {
   "cell_type": "code",
   "execution_count": null,
   "metadata": {
    "colab": {
     "base_uri": "https://localhost:8080/"
    },
    "id": "lKPVs5P6AkRp",
    "outputId": "0f6d29c4-ca8d-4b43-d427-6be36b9b9676"
   },
   "outputs": [],
   "source": [
    "# Mobile Net(v1)\n",
    "for i in range(no_patients):\n",
    "    train_batches = ImageDataGenerator(preprocessing_function=keras.applications.mobilenet.preprocess_input).flow_from_directory(directory=train_path_list[i], target_size=(224, 224), classes=['negative', 'positive'], batch_size=2)\n",
    "    print(train_batches)\n",
    "valid_batches = ImageDataGenerator(preprocessing_function=keras.applications.mobilenet.preprocess_input).flow_from_directory(directory=valid_path, target_size=(224, 224), classes=['negative', 'positive'],  batch_size=1)\n",
    "test_batches = ImageDataGenerator(preprocessing_function=keras.applications.mobilenet.preprocess_input).flow_from_directory(directory=test_path, target_size=(224, 224), classes=['negative', 'positive'], batch_size=1, shuffle=False)"
   ]
  },
  {
   "cell_type": "code",
   "execution_count": null,
   "metadata": {
    "id": "lOS4qHU8BlDO"
   },
   "outputs": [],
   "source": [
    "from tensorflow.keras import Model\n",
    "\n",
    "Model_array = []\n",
    "for i in range(no_patients):\n",
    "    mobile = tf.keras.applications.mobilenet.MobileNet()\n",
    "    mobile.summary()\n",
    "    x = mobile.layers[-6].output\n",
    "    output = Dense(units=2, activation='softmax')(x)\n",
    "    model_mobile = Model(inputs=mobile.input, outputs=output)\n",
    "    model_mobile.compile(optimizer=Adam(learning_rate=0.001), loss='categorical_crossentropy', metrics=['accuracy'])\n",
    "    Model_array.append(model_mobile)\n",
    "    print(Model_array)\n"
   ]
  },
  {
   "cell_type": "code",
   "execution_count": null,
   "metadata": {
    "colab": {
     "base_uri": "https://localhost:8080/"
    },
    "id": "w6hwzzmbCSEO",
    "outputId": "f7ddc69f-d238-4363-acf1-ce474678f59c"
   },
   "outputs": [],
   "source": [
    "for layer in mobile.layers[:-23]:\n",
    "    layer.trainable=False\n",
    "max_rounds = 10\n",
    "\n",
    "# def get_model():\n",
    "#     inputs = keras.Input(shape=(128,))\n",
    "#     outputs = layers.Dense(1)(inputs)\n",
    "#     return keras.Model(inputs, outputs)\n",
    "\n",
    "#Global_model = None\n",
    "no_patients = 20\n",
    "\n",
    "for rounds in range(max_rounds):\n",
    "    for i in range(int(no_patients)):\n",
    "        Model_array[i].fit(x=train_batches, validation_data=valid_batches, epochs=1, verbose=1)\n",
    "\n",
    "    weights = [model.get_weights() for model in Model_array]\n",
    "    new_weights = []\n",
    "    wlen = len(weights[0])\n",
    "    for i in range(wlen):\n",
    "        w_mean = 0\n",
    "        for j in range(no_patients):\n",
    "            w_mean = w_mean + weights[j][i]\n",
    "        new_weights = new_weights + [w_mean / float(no_patients)]\n",
    "\n",
    "    [model.set_weights(new_weights) for model in Model_array]\n",
    "    \n",
    "#    for model in Model_array:\n",
    "#        Global_model.append(new_weights)\n",
    "\n",
    "# for rounds in range(max_rounds):\n",
    "# #    for i in range(int(no_patients)):\n",
    "# #        weights = [int(no_patients[i]) + int(no_patients[i+1]) for i in range(no_patients) - 1)]\n",
    "# #        inputs = keras.Input(shape=(128,))\n",
    "#         Model_array[i].fit(x=train_batches, validation_data=valid_batches, epochs=1, verbose=1)\n",
    "# #        outputs = layer.average(Model_array)\n",
    "# #   inputs = keras.Input(shape=(128,))\n",
    "\n",
    "# #    outputs = layers.average(Model_array)\n",
    "# #    Global_model = outputs\n",
    "# #    averaged_model = keras.Model(inputs=inputs, outputs=outputs)\n",
    "\n",
    "# #    Global_model = np.average(Model_array)\n",
    "# #        Global_model = keras.Model(inputs=inputs, outputs=outputs)\n",
    "# #    for i in range(no_patients):\n",
    "# #        Model_array = Global_model"
   ]
  },
  {
   "cell_type": "code",
   "execution_count": null,
   "metadata": {},
   "outputs": [],
   "source": [
    "import pandas as pd\n",
    "import matplotlib.pyplot as plt\n",
    "import seaborn as sns\n",
    "from sklearn.metrics import confusion_matrix, classification_report, roc_curve, roc_auc_score, accuracy_score\n",
    "\n",
    "sns.set()\n",
    "\n",
    "def confusion_matrix_and_report(model, batch_to_pred):\n",
    "  preds = model.predict(x=batch_to_pred)\n",
    "  y_preds = np.argmax(preds, axis=-1)\n",
    "  y_true = batch_to_pred.classes\n",
    "  accuracy = accuracy_score(y_true, y_preds)\n",
    "  print(f\"The accuracy of the model is: {accuracy}\")\n",
    "  confuse = confusion_matrix(y_true, y_preds)\n",
    "  report = classification_report(y_true, y_preds)\n",
    "  print(report)    \n",
    "  sns.heatmap(pd.DataFrame(confuse), annot=True, cmap='viridis', fmt='g')\n",
    "  plt.tight_layout()\n",
    "  plt.xlabel('Predicted label')\n",
    "  plt.ylabel('Actual label')\n",
    "  plt.title('CONFUSION MATRIX')\n",
    "  plt.show()\n",
    "\n",
    "def roc_auc(model, batch_to_pred):\n",
    "  proba_list = []\n",
    "  preds = model.predict(x=batch_to_pred)[::,1]\n",
    "  y_true = batch_to_pred.classes\n",
    "  fpr, tpr, thresholds = roc_curve(y_true, preds)\n",
    "  auc = roc_auc_score(y_true, preds)\n",
    "  plt.plot(fpr,tpr,label=\"Auc=\"+str(auc))\n",
    "  plt.legend(loc=4)"
   ]
  },
  {
   "cell_type": "code",
   "execution_count": null,
   "metadata": {
    "colab": {
     "base_uri": "https://localhost:8080/",
     "height": 762
    },
    "id": "jZAyXuqXC6K5",
    "outputId": "ddeed85b-ba01-4409-e23d-028b903c4294"
   },
   "outputs": [],
   "source": [
    "confusion_matrix_and_report(model_mobile, test_batches)\n",
    "roc_auc(model_mobile, test_batches)"
   ]
  },
  {
   "cell_type": "code",
   "execution_count": null,
   "metadata": {
    "colab": {
     "base_uri": "https://localhost:8080/"
    },
    "id": "x7uk-wxxDU-7",
    "outputId": "de29f841-3e62-4478-8250-742b9d911389"
   },
   "outputs": [],
   "source": [
    "model_mobile.save('model_mobilenet.h5')\n",
    "print(\"SAVED\")"
   ]
  },
  {
   "cell_type": "code",
   "execution_count": null,
   "metadata": {
    "colab": {
     "base_uri": "https://localhost:8080/"
    },
    "id": "yJ4pmvLRg2IJ",
    "outputId": "049a56f9-7501-4cd5-acac-46b0ff54348c"
   },
   "outputs": [],
   "source": [
    "# Predicting our own images\n",
    "\n",
    "import numpy as np\n",
    "from tensorflow.keras.models import load_model\n",
    "from keras.preprocessing import image\n",
    "\n",
    "model_dir = 'model_mobilenet.h5'\n",
    "image_dir = 'covid19_data/test/negative/NORMAL2-IM-0381-0001.jpeg'\n",
    "\n",
    "model_loaded = load_model(model_dir)\n",
    "img_width, img_height = 224, 224\n",
    "img = image.load_img(image_dir, target_size = (img_width, img_height))\n",
    "img = image.img_to_array(img)\n",
    "img = np.expand_dims(img, axis = 0)\n",
    "\n",
    "result = np.argmax(model_loaded.predict(img), axis=-1)[0]\n",
    "if(result==1):\n",
    "  print(\"COVID19 POSITIVE! TAKE CARE\")\n",
    "else:\n",
    "  print(\"COVID19 NEGATIVE! STAY SAFE\")"
   ]
  }
 ],
 "metadata": {
  "accelerator": "GPU",
  "colab": {
   "collapsed_sections": [],
   "name": "Untitled",
   "provenance": []
  },
  "kernelspec": {
   "display_name": "Python 3",
   "language": "python",
   "name": "python3"
  },
  "language_info": {
   "codemirror_mode": {
    "name": "ipython",
    "version": 3
   },
   "file_extension": ".py",
   "mimetype": "text/x-python",
   "name": "python",
   "nbconvert_exporter": "python",
   "pygments_lexer": "ipython3",
   "version": "3.9.5"
  }
 },
 "nbformat": 4,
 "nbformat_minor": 1
}
